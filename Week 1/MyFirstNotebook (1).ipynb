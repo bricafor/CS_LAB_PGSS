{
  "nbformat": 4,
  "nbformat_minor": 0,
  "metadata": {
    "colab": {
      "name": "MyFirstNotebook.ipynb",
      "provenance": [],
      "collapsed_sections": []
    },
    "kernelspec": {
      "name": "python3",
      "display_name": "Python 3"
    },
    "language_info": {
      "name": "python"
    }
  },
  "cells": [
    {
      "cell_type": "markdown",
      "source": [
        "**This is our first textbook.**\n",
        "* Here we will learn to write some rudimentary python code and R code, in a notebook style setup, executing the same on a REMOTE Virtual Machine."
      ],
      "metadata": {
        "id": "z14upJRo1UZ4"
      }
    },
    {
      "cell_type": "markdown",
      "source": [
        "# Reading data from google drive"
      ],
      "metadata": {
        "id": "YhGCYKa95KcT"
      }
    },
    {
      "cell_type": "code",
      "source": [
        "from google.colab import drive\n",
        "drive.mount('/content/gdrive')"
      ],
      "metadata": {
        "colab": {
          "base_uri": "https://localhost:8080/"
        },
        "id": "7sO3YTmEwVom",
        "outputId": "a3915e7d-bc49-40d2-ed24-84a42f2365c3"
      },
      "execution_count": 4,
      "outputs": [
        {
          "output_type": "stream",
          "name": "stdout",
          "text": [
            "Drive already mounted at /content/gdrive; to attempt to forcibly remount, call drive.mount(\"/content/gdrive\", force_remount=True).\n"
          ]
        }
      ]
    },
    {
      "cell_type": "code",
      "source": [
        "# Read the CSV file iris.csv\n",
        "import pandas as pd\n",
        "df = pd.read_csv (\"/content/gdrive/MyDrive/PGSS2022/L1--6-28-2022/iris.csv\", header=None)\n",
        "df.columns = ['Sepal.Length','Sepal.Width', 'Petal.Length', 'Petal.Width', 'Class']\n",
        "df\n"
      ],
      "metadata": {
        "colab": {
          "base_uri": "https://localhost:8080/",
          "height": 424
        },
        "id": "8FPBHQJ2w97d",
        "outputId": "db6a161b-124a-40f3-c726-cb3400034ce9"
      },
      "execution_count": 5,
      "outputs": [
        {
          "output_type": "execute_result",
          "data": {
            "text/plain": [
              "     Sepal.Length  Sepal.Width  Petal.Length  Petal.Width           Class\n",
              "0             5.1          3.5           1.4          0.2     Iris-setosa\n",
              "1             4.9          3.0           1.4          0.2     Iris-setosa\n",
              "2             4.7          3.2           1.3          0.2     Iris-setosa\n",
              "3             4.6          3.1           1.5          0.2     Iris-setosa\n",
              "4             5.0          3.6           1.4          0.2     Iris-setosa\n",
              "..            ...          ...           ...          ...             ...\n",
              "145           6.7          3.0           5.2          2.3  Iris-virginica\n",
              "146           6.3          2.5           5.0          1.9  Iris-virginica\n",
              "147           6.5          3.0           5.2          2.0  Iris-virginica\n",
              "148           6.2          3.4           5.4          2.3  Iris-virginica\n",
              "149           5.9          3.0           5.1          1.8  Iris-virginica\n",
              "\n",
              "[150 rows x 5 columns]"
            ],
            "text/html": [
              "\n",
              "  <div id=\"df-4de5d254-8587-47d0-a314-4140695e2315\">\n",
              "    <div class=\"colab-df-container\">\n",
              "      <div>\n",
              "<style scoped>\n",
              "    .dataframe tbody tr th:only-of-type {\n",
              "        vertical-align: middle;\n",
              "    }\n",
              "\n",
              "    .dataframe tbody tr th {\n",
              "        vertical-align: top;\n",
              "    }\n",
              "\n",
              "    .dataframe thead th {\n",
              "        text-align: right;\n",
              "    }\n",
              "</style>\n",
              "<table border=\"1\" class=\"dataframe\">\n",
              "  <thead>\n",
              "    <tr style=\"text-align: right;\">\n",
              "      <th></th>\n",
              "      <th>Sepal.Length</th>\n",
              "      <th>Sepal.Width</th>\n",
              "      <th>Petal.Length</th>\n",
              "      <th>Petal.Width</th>\n",
              "      <th>Class</th>\n",
              "    </tr>\n",
              "  </thead>\n",
              "  <tbody>\n",
              "    <tr>\n",
              "      <th>0</th>\n",
              "      <td>5.1</td>\n",
              "      <td>3.5</td>\n",
              "      <td>1.4</td>\n",
              "      <td>0.2</td>\n",
              "      <td>Iris-setosa</td>\n",
              "    </tr>\n",
              "    <tr>\n",
              "      <th>1</th>\n",
              "      <td>4.9</td>\n",
              "      <td>3.0</td>\n",
              "      <td>1.4</td>\n",
              "      <td>0.2</td>\n",
              "      <td>Iris-setosa</td>\n",
              "    </tr>\n",
              "    <tr>\n",
              "      <th>2</th>\n",
              "      <td>4.7</td>\n",
              "      <td>3.2</td>\n",
              "      <td>1.3</td>\n",
              "      <td>0.2</td>\n",
              "      <td>Iris-setosa</td>\n",
              "    </tr>\n",
              "    <tr>\n",
              "      <th>3</th>\n",
              "      <td>4.6</td>\n",
              "      <td>3.1</td>\n",
              "      <td>1.5</td>\n",
              "      <td>0.2</td>\n",
              "      <td>Iris-setosa</td>\n",
              "    </tr>\n",
              "    <tr>\n",
              "      <th>4</th>\n",
              "      <td>5.0</td>\n",
              "      <td>3.6</td>\n",
              "      <td>1.4</td>\n",
              "      <td>0.2</td>\n",
              "      <td>Iris-setosa</td>\n",
              "    </tr>\n",
              "    <tr>\n",
              "      <th>...</th>\n",
              "      <td>...</td>\n",
              "      <td>...</td>\n",
              "      <td>...</td>\n",
              "      <td>...</td>\n",
              "      <td>...</td>\n",
              "    </tr>\n",
              "    <tr>\n",
              "      <th>145</th>\n",
              "      <td>6.7</td>\n",
              "      <td>3.0</td>\n",
              "      <td>5.2</td>\n",
              "      <td>2.3</td>\n",
              "      <td>Iris-virginica</td>\n",
              "    </tr>\n",
              "    <tr>\n",
              "      <th>146</th>\n",
              "      <td>6.3</td>\n",
              "      <td>2.5</td>\n",
              "      <td>5.0</td>\n",
              "      <td>1.9</td>\n",
              "      <td>Iris-virginica</td>\n",
              "    </tr>\n",
              "    <tr>\n",
              "      <th>147</th>\n",
              "      <td>6.5</td>\n",
              "      <td>3.0</td>\n",
              "      <td>5.2</td>\n",
              "      <td>2.0</td>\n",
              "      <td>Iris-virginica</td>\n",
              "    </tr>\n",
              "    <tr>\n",
              "      <th>148</th>\n",
              "      <td>6.2</td>\n",
              "      <td>3.4</td>\n",
              "      <td>5.4</td>\n",
              "      <td>2.3</td>\n",
              "      <td>Iris-virginica</td>\n",
              "    </tr>\n",
              "    <tr>\n",
              "      <th>149</th>\n",
              "      <td>5.9</td>\n",
              "      <td>3.0</td>\n",
              "      <td>5.1</td>\n",
              "      <td>1.8</td>\n",
              "      <td>Iris-virginica</td>\n",
              "    </tr>\n",
              "  </tbody>\n",
              "</table>\n",
              "<p>150 rows × 5 columns</p>\n",
              "</div>\n",
              "      <button class=\"colab-df-convert\" onclick=\"convertToInteractive('df-4de5d254-8587-47d0-a314-4140695e2315')\"\n",
              "              title=\"Convert this dataframe to an interactive table.\"\n",
              "              style=\"display:none;\">\n",
              "        \n",
              "  <svg xmlns=\"http://www.w3.org/2000/svg\" height=\"24px\"viewBox=\"0 0 24 24\"\n",
              "       width=\"24px\">\n",
              "    <path d=\"M0 0h24v24H0V0z\" fill=\"none\"/>\n",
              "    <path d=\"M18.56 5.44l.94 2.06.94-2.06 2.06-.94-2.06-.94-.94-2.06-.94 2.06-2.06.94zm-11 1L8.5 8.5l.94-2.06 2.06-.94-2.06-.94L8.5 2.5l-.94 2.06-2.06.94zm10 10l.94 2.06.94-2.06 2.06-.94-2.06-.94-.94-2.06-.94 2.06-2.06.94z\"/><path d=\"M17.41 7.96l-1.37-1.37c-.4-.4-.92-.59-1.43-.59-.52 0-1.04.2-1.43.59L10.3 9.45l-7.72 7.72c-.78.78-.78 2.05 0 2.83L4 21.41c.39.39.9.59 1.41.59.51 0 1.02-.2 1.41-.59l7.78-7.78 2.81-2.81c.8-.78.8-2.07 0-2.86zM5.41 20L4 18.59l7.72-7.72 1.47 1.35L5.41 20z\"/>\n",
              "  </svg>\n",
              "      </button>\n",
              "      \n",
              "  <style>\n",
              "    .colab-df-container {\n",
              "      display:flex;\n",
              "      flex-wrap:wrap;\n",
              "      gap: 12px;\n",
              "    }\n",
              "\n",
              "    .colab-df-convert {\n",
              "      background-color: #E8F0FE;\n",
              "      border: none;\n",
              "      border-radius: 50%;\n",
              "      cursor: pointer;\n",
              "      display: none;\n",
              "      fill: #1967D2;\n",
              "      height: 32px;\n",
              "      padding: 0 0 0 0;\n",
              "      width: 32px;\n",
              "    }\n",
              "\n",
              "    .colab-df-convert:hover {\n",
              "      background-color: #E2EBFA;\n",
              "      box-shadow: 0px 1px 2px rgba(60, 64, 67, 0.3), 0px 1px 3px 1px rgba(60, 64, 67, 0.15);\n",
              "      fill: #174EA6;\n",
              "    }\n",
              "\n",
              "    [theme=dark] .colab-df-convert {\n",
              "      background-color: #3B4455;\n",
              "      fill: #D2E3FC;\n",
              "    }\n",
              "\n",
              "    [theme=dark] .colab-df-convert:hover {\n",
              "      background-color: #434B5C;\n",
              "      box-shadow: 0px 1px 3px 1px rgba(0, 0, 0, 0.15);\n",
              "      filter: drop-shadow(0px 1px 2px rgba(0, 0, 0, 0.3));\n",
              "      fill: #FFFFFF;\n",
              "    }\n",
              "  </style>\n",
              "\n",
              "      <script>\n",
              "        const buttonEl =\n",
              "          document.querySelector('#df-4de5d254-8587-47d0-a314-4140695e2315 button.colab-df-convert');\n",
              "        buttonEl.style.display =\n",
              "          google.colab.kernel.accessAllowed ? 'block' : 'none';\n",
              "\n",
              "        async function convertToInteractive(key) {\n",
              "          const element = document.querySelector('#df-4de5d254-8587-47d0-a314-4140695e2315');\n",
              "          const dataTable =\n",
              "            await google.colab.kernel.invokeFunction('convertToInteractive',\n",
              "                                                     [key], {});\n",
              "          if (!dataTable) return;\n",
              "\n",
              "          const docLinkHtml = 'Like what you see? Visit the ' +\n",
              "            '<a target=\"_blank\" href=https://colab.research.google.com/notebooks/data_table.ipynb>data table notebook</a>'\n",
              "            + ' to learn more about interactive tables.';\n",
              "          element.innerHTML = '';\n",
              "          dataTable['output_type'] = 'display_data';\n",
              "          await google.colab.output.renderOutput(dataTable, element);\n",
              "          const docLink = document.createElement('div');\n",
              "          docLink.innerHTML = docLinkHtml;\n",
              "          element.appendChild(docLink);\n",
              "        }\n",
              "      </script>\n",
              "    </div>\n",
              "  </div>\n",
              "  "
            ]
          },
          "metadata": {},
          "execution_count": 5
        }
      ]
    },
    {
      "cell_type": "code",
      "source": [
        "df.info()"
      ],
      "metadata": {
        "colab": {
          "base_uri": "https://localhost:8080/"
        },
        "id": "ixoXsKSox-oj",
        "outputId": "a181fc67-a8e2-4426-ec49-a78bc5537981"
      },
      "execution_count": 6,
      "outputs": [
        {
          "output_type": "stream",
          "name": "stdout",
          "text": [
            "<class 'pandas.core.frame.DataFrame'>\n",
            "RangeIndex: 150 entries, 0 to 149\n",
            "Data columns (total 5 columns):\n",
            " #   Column        Non-Null Count  Dtype  \n",
            "---  ------        --------------  -----  \n",
            " 0   Sepal.Length  150 non-null    float64\n",
            " 1   Sepal.Width   150 non-null    float64\n",
            " 2   Petal.Length  150 non-null    float64\n",
            " 3   Petal.Width   150 non-null    float64\n",
            " 4   Class         150 non-null    object \n",
            "dtypes: float64(4), object(1)\n",
            "memory usage: 6.0+ KB\n"
          ]
        }
      ]
    },
    {
      "cell_type": "code",
      "source": [
        "! pwd"
      ],
      "metadata": {
        "colab": {
          "base_uri": "https://localhost:8080/"
        },
        "id": "lJtJJSc17odK",
        "outputId": "189e8ea4-471d-4f07-f607-002bba22a26a"
      },
      "execution_count": 9,
      "outputs": [
        {
          "output_type": "stream",
          "name": "stdout",
          "text": [
            "/content\n"
          ]
        }
      ]
    },
    {
      "cell_type": "code",
      "source": [
        "!top"
      ],
      "metadata": {
        "colab": {
          "base_uri": "https://localhost:8080/"
        },
        "id": "oNap8_M6yiGs",
        "outputId": "b14e9fda-3cd7-449a-f556-3a9a450e7d26"
      },
      "execution_count": 10,
      "outputs": [
        {
          "output_type": "stream",
          "name": "stdout",
          "text": [
            "\u001b[?1h\u001b=\u001b[H\u001b[2J\u001b[mtop - 20:11:08 up  1:00,  0 users,  load average: 0.29, 0.60, 0.49\u001b[m\u001b[m\u001b[m\u001b[m\u001b[K\n",
            "Tasks:\u001b[m\u001b[m\u001b[1m  22 \u001b[m\u001b[mtotal,\u001b[m\u001b[m\u001b[1m   1 \u001b[m\u001b[mrunning,\u001b[m\u001b[m\u001b[1m  19 \u001b[m\u001b[msleeping,\u001b[m\u001b[m\u001b[1m   0 \u001b[m\u001b[mstopped,\u001b[m\u001b[m\u001b[1m   2 \u001b[m\u001b[mzombie\u001b[m\u001b[m\u001b[m\u001b[m\u001b[K\n",
            "%Cpu(s):\u001b[m\u001b[m\u001b[1m 11.1 \u001b[m\u001b[mus,\u001b[m\u001b[m\u001b[1m  1.7 \u001b[m\u001b[msy,\u001b[m\u001b[m\u001b[1m  0.0 \u001b[m\u001b[mni,\u001b[m\u001b[m\u001b[1m 86.9 \u001b[m\u001b[mid,\u001b[m\u001b[m\u001b[1m  0.2 \u001b[m\u001b[mwa,\u001b[m\u001b[m\u001b[1m  0.0 \u001b[m\u001b[mhi,\u001b[m\u001b[m\u001b[1m  0.1 \u001b[m\u001b[msi,\u001b[m\u001b[m\u001b[1m  0.1 \u001b[m\u001b[mst\u001b[m\u001b[m\u001b[m\u001b[m\u001b[K\n",
            "KiB Mem :\u001b[m\u001b[m\u001b[1m 13298572 \u001b[m\u001b[mtotal,\u001b[m\u001b[m\u001b[1m 10028504 \u001b[m\u001b[mfree,\u001b[m\u001b[m\u001b[1m  1031696 \u001b[m\u001b[mused,\u001b[m\u001b[m\u001b[1m  2238372 \u001b[m\u001b[mbuff/cache\u001b[m\u001b[m\u001b[m\u001b[m\u001b[K\n",
            "KiB Swap:\u001b[m\u001b[m\u001b[1m        0 \u001b[m\u001b[mtotal,\u001b[m\u001b[m\u001b[1m        0 \u001b[m\u001b[mfree,\u001b[m\u001b[m\u001b[1m        0 \u001b[m\u001b[mused.\u001b[m\u001b[m\u001b[1m 12088008 \u001b[m\u001b[mavail Mem \u001b[m\u001b[m\u001b[m\u001b[m\u001b[K\n",
            "\u001b[K\n",
            "\u001b[7m    PID USER      PR  NI    VIRT    RES    SHR S  %CPU %MEM     TIME+ COMMAND   \u001b[m\u001b[m\u001b[K\n",
            "\u001b[m     43 root      20   0  200320  60556  15172 S   6.7  0.5   0:10.67 jupyter-+ \u001b[m\u001b[m\u001b[K\n",
            "\u001b[m   1018 root      20   0  609324 164548  54420 S   6.7  1.2   0:04.46 python3   \u001b[m\u001b[m\u001b[K\n",
            "\u001b[m      1 root      20   0     992      4      0 S   0.0  0.0   0:00.75 docker-i+ \u001b[m\u001b[m\u001b[K\n",
            "\u001b[m      7 root      20   0  356516  67628  32756 S   0.0  0.5   0:12.97 node      \u001b[m\u001b[m\u001b[K\n",
            "\u001b[m     17 root      20   0   35888   4780   3668 S   0.0  0.0   0:00.90 tail      \u001b[m\u001b[m\u001b[K\n",
            "\u001b[m     29 root      20   0       0      0      0 Z   0.0  0.0   0:07.05 python3   \u001b[m\u001b[m\u001b[K\n",
            "\u001b[m     30 root      20   0  156136  41324  12700 S   0.0  0.3   0:00.88 colab-fi+ \u001b[m\u001b[m\u001b[K\n",
            "\u001b[m     44 root      20   0  716748  11860   4716 S   0.0  0.1   0:05.26 dap_mult+ \u001b[m\u001b[m\u001b[K\n",
            "\u001b[m    616 root      20   0  127444  16112   6264 S   0.0  0.1   0:00.25 python3   \u001b[m\u001b[m\u001b[K\n",
            "\u001b[m    634 root      20   0  291068  46344  28532 S   0.0  0.3   0:00.32 node      \u001b[m\u001b[m\u001b[K\n",
            "\u001b[m    733 root      20   0   18380   1500   1204 S   0.0  0.0   0:00.00 bash      \u001b[m\u001b[m\u001b[K\n",
            "\u001b[m    734 root      20   0 2194000  24192  19640 S   0.0  0.2   0:00.01 drive     \u001b[m\u001b[m\u001b[K\n",
            "\u001b[m    735 root      20   0   11464   1008    912 S   0.0  0.0   0:00.00 grep      \u001b[m\u001b[m\u001b[K\n",
            "\u001b[m    738 root      20   0 2638324  53332  36296 S   0.0  0.4   0:01.00 drive     \u001b[m\u001b[m\u001b[K\n",
            "\u001b[m    764 root      20   0       0      0      0 Z   0.0  0.0   0:00.74 fusermou+ \u001b[m\u001b[m\u001b[K\n",
            "\u001b[m    808 root      20   0   18380   3056   2804 S   0.0  0.0   0:00.00 bash      \u001b[m\u001b[m\u001b[K\n",
            "\u001b[m    809 root      20   0  712048   2840   2200 S   0.0  0.0   0:00.01 director+ \u001b[m\u001b[m\u001b[K\u001b[?1l\u001b>\u001b[25;1H\n",
            "\u001b[K"
          ]
        }
      ]
    },
    {
      "cell_type": "code",
      "source": [
        "! nvidia-smi"
      ],
      "metadata": {
        "id": "1niN79OEzTGT",
        "colab": {
          "base_uri": "https://localhost:8080/"
        },
        "outputId": "e9d0f549-971e-43dd-f57e-d1a3f498284d"
      },
      "execution_count": 29,
      "outputs": [
        {
          "output_type": "stream",
          "name": "stdout",
          "text": [
            "NVIDIA-SMI has failed because it couldn't communicate with the NVIDIA driver. Make sure that the latest NVIDIA driver is installed and running.\n",
            "\n"
          ]
        }
      ]
    },
    {
      "cell_type": "markdown",
      "source": [
        "# Explanatory Analysis of the data frame loaded from Github version of iris.csv"
      ],
      "metadata": {
        "id": "q8ap9tOP2sf3"
      }
    },
    {
      "cell_type": "code",
      "source": [
        "df['Class'].value_counts()\n",
        "\n"
      ],
      "metadata": {
        "colab": {
          "base_uri": "https://localhost:8080/"
        },
        "id": "ZEEDHjn223WO",
        "outputId": "3651fed6-0de8-4ce8-f68a-94c01a803116"
      },
      "execution_count": 12,
      "outputs": [
        {
          "output_type": "execute_result",
          "data": {
            "text/plain": [
              "Iris-setosa        50\n",
              "Iris-versicolor    50\n",
              "Iris-virginica     50\n",
              "Name: Class, dtype: int64"
            ]
          },
          "metadata": {},
          "execution_count": 12
        }
      ]
    },
    {
      "cell_type": "code",
      "source": [
        "df.groupby('Class').agg({'Sepal.Length': ['min', 'max', 'mean'],'Sepal.Width': ['min', 'max', 'mean'], 'Petal.Length': ['min', 'max'], 'Petal.Width': ['min', 'max']})"
      ],
      "metadata": {
        "colab": {
          "base_uri": "https://localhost:8080/",
          "height": 206
        },
        "id": "1-6q1JCy3XK9",
        "outputId": "ec2a2407-0e20-4987-d432-faa0242adffb"
      },
      "execution_count": 14,
      "outputs": [
        {
          "output_type": "execute_result",
          "data": {
            "text/plain": [
              "                Sepal.Length             Sepal.Width             Petal.Length  \\\n",
              "                         min  max   mean         min  max   mean          min   \n",
              "Class                                                                           \n",
              "Iris-setosa              4.3  5.8  5.006         2.3  4.4  3.418          1.0   \n",
              "Iris-versicolor          4.9  7.0  5.936         2.0  3.4  2.770          3.0   \n",
              "Iris-virginica           4.9  7.9  6.588         2.2  3.8  2.974          4.5   \n",
              "\n",
              "                     Petal.Width       \n",
              "                 max         min  max  \n",
              "Class                                  \n",
              "Iris-setosa      1.9         0.1  0.6  \n",
              "Iris-versicolor  5.1         1.0  1.8  \n",
              "Iris-virginica   6.9         1.4  2.5  "
            ],
            "text/html": [
              "\n",
              "  <div id=\"df-2dac9d98-8d2d-49f2-b554-39be9920e44a\">\n",
              "    <div class=\"colab-df-container\">\n",
              "      <div>\n",
              "<style scoped>\n",
              "    .dataframe tbody tr th:only-of-type {\n",
              "        vertical-align: middle;\n",
              "    }\n",
              "\n",
              "    .dataframe tbody tr th {\n",
              "        vertical-align: top;\n",
              "    }\n",
              "\n",
              "    .dataframe thead tr th {\n",
              "        text-align: left;\n",
              "    }\n",
              "\n",
              "    .dataframe thead tr:last-of-type th {\n",
              "        text-align: right;\n",
              "    }\n",
              "</style>\n",
              "<table border=\"1\" class=\"dataframe\">\n",
              "  <thead>\n",
              "    <tr>\n",
              "      <th></th>\n",
              "      <th colspan=\"3\" halign=\"left\">Sepal.Length</th>\n",
              "      <th colspan=\"3\" halign=\"left\">Sepal.Width</th>\n",
              "      <th colspan=\"2\" halign=\"left\">Petal.Length</th>\n",
              "      <th colspan=\"2\" halign=\"left\">Petal.Width</th>\n",
              "    </tr>\n",
              "    <tr>\n",
              "      <th></th>\n",
              "      <th>min</th>\n",
              "      <th>max</th>\n",
              "      <th>mean</th>\n",
              "      <th>min</th>\n",
              "      <th>max</th>\n",
              "      <th>mean</th>\n",
              "      <th>min</th>\n",
              "      <th>max</th>\n",
              "      <th>min</th>\n",
              "      <th>max</th>\n",
              "    </tr>\n",
              "    <tr>\n",
              "      <th>Class</th>\n",
              "      <th></th>\n",
              "      <th></th>\n",
              "      <th></th>\n",
              "      <th></th>\n",
              "      <th></th>\n",
              "      <th></th>\n",
              "      <th></th>\n",
              "      <th></th>\n",
              "      <th></th>\n",
              "      <th></th>\n",
              "    </tr>\n",
              "  </thead>\n",
              "  <tbody>\n",
              "    <tr>\n",
              "      <th>Iris-setosa</th>\n",
              "      <td>4.3</td>\n",
              "      <td>5.8</td>\n",
              "      <td>5.006</td>\n",
              "      <td>2.3</td>\n",
              "      <td>4.4</td>\n",
              "      <td>3.418</td>\n",
              "      <td>1.0</td>\n",
              "      <td>1.9</td>\n",
              "      <td>0.1</td>\n",
              "      <td>0.6</td>\n",
              "    </tr>\n",
              "    <tr>\n",
              "      <th>Iris-versicolor</th>\n",
              "      <td>4.9</td>\n",
              "      <td>7.0</td>\n",
              "      <td>5.936</td>\n",
              "      <td>2.0</td>\n",
              "      <td>3.4</td>\n",
              "      <td>2.770</td>\n",
              "      <td>3.0</td>\n",
              "      <td>5.1</td>\n",
              "      <td>1.0</td>\n",
              "      <td>1.8</td>\n",
              "    </tr>\n",
              "    <tr>\n",
              "      <th>Iris-virginica</th>\n",
              "      <td>4.9</td>\n",
              "      <td>7.9</td>\n",
              "      <td>6.588</td>\n",
              "      <td>2.2</td>\n",
              "      <td>3.8</td>\n",
              "      <td>2.974</td>\n",
              "      <td>4.5</td>\n",
              "      <td>6.9</td>\n",
              "      <td>1.4</td>\n",
              "      <td>2.5</td>\n",
              "    </tr>\n",
              "  </tbody>\n",
              "</table>\n",
              "</div>\n",
              "      <button class=\"colab-df-convert\" onclick=\"convertToInteractive('df-2dac9d98-8d2d-49f2-b554-39be9920e44a')\"\n",
              "              title=\"Convert this dataframe to an interactive table.\"\n",
              "              style=\"display:none;\">\n",
              "        \n",
              "  <svg xmlns=\"http://www.w3.org/2000/svg\" height=\"24px\"viewBox=\"0 0 24 24\"\n",
              "       width=\"24px\">\n",
              "    <path d=\"M0 0h24v24H0V0z\" fill=\"none\"/>\n",
              "    <path d=\"M18.56 5.44l.94 2.06.94-2.06 2.06-.94-2.06-.94-.94-2.06-.94 2.06-2.06.94zm-11 1L8.5 8.5l.94-2.06 2.06-.94-2.06-.94L8.5 2.5l-.94 2.06-2.06.94zm10 10l.94 2.06.94-2.06 2.06-.94-2.06-.94-.94-2.06-.94 2.06-2.06.94z\"/><path d=\"M17.41 7.96l-1.37-1.37c-.4-.4-.92-.59-1.43-.59-.52 0-1.04.2-1.43.59L10.3 9.45l-7.72 7.72c-.78.78-.78 2.05 0 2.83L4 21.41c.39.39.9.59 1.41.59.51 0 1.02-.2 1.41-.59l7.78-7.78 2.81-2.81c.8-.78.8-2.07 0-2.86zM5.41 20L4 18.59l7.72-7.72 1.47 1.35L5.41 20z\"/>\n",
              "  </svg>\n",
              "      </button>\n",
              "      \n",
              "  <style>\n",
              "    .colab-df-container {\n",
              "      display:flex;\n",
              "      flex-wrap:wrap;\n",
              "      gap: 12px;\n",
              "    }\n",
              "\n",
              "    .colab-df-convert {\n",
              "      background-color: #E8F0FE;\n",
              "      border: none;\n",
              "      border-radius: 50%;\n",
              "      cursor: pointer;\n",
              "      display: none;\n",
              "      fill: #1967D2;\n",
              "      height: 32px;\n",
              "      padding: 0 0 0 0;\n",
              "      width: 32px;\n",
              "    }\n",
              "\n",
              "    .colab-df-convert:hover {\n",
              "      background-color: #E2EBFA;\n",
              "      box-shadow: 0px 1px 2px rgba(60, 64, 67, 0.3), 0px 1px 3px 1px rgba(60, 64, 67, 0.15);\n",
              "      fill: #174EA6;\n",
              "    }\n",
              "\n",
              "    [theme=dark] .colab-df-convert {\n",
              "      background-color: #3B4455;\n",
              "      fill: #D2E3FC;\n",
              "    }\n",
              "\n",
              "    [theme=dark] .colab-df-convert:hover {\n",
              "      background-color: #434B5C;\n",
              "      box-shadow: 0px 1px 3px 1px rgba(0, 0, 0, 0.15);\n",
              "      filter: drop-shadow(0px 1px 2px rgba(0, 0, 0, 0.3));\n",
              "      fill: #FFFFFF;\n",
              "    }\n",
              "  </style>\n",
              "\n",
              "      <script>\n",
              "        const buttonEl =\n",
              "          document.querySelector('#df-2dac9d98-8d2d-49f2-b554-39be9920e44a button.colab-df-convert');\n",
              "        buttonEl.style.display =\n",
              "          google.colab.kernel.accessAllowed ? 'block' : 'none';\n",
              "\n",
              "        async function convertToInteractive(key) {\n",
              "          const element = document.querySelector('#df-2dac9d98-8d2d-49f2-b554-39be9920e44a');\n",
              "          const dataTable =\n",
              "            await google.colab.kernel.invokeFunction('convertToInteractive',\n",
              "                                                     [key], {});\n",
              "          if (!dataTable) return;\n",
              "\n",
              "          const docLinkHtml = 'Like what you see? Visit the ' +\n",
              "            '<a target=\"_blank\" href=https://colab.research.google.com/notebooks/data_table.ipynb>data table notebook</a>'\n",
              "            + ' to learn more about interactive tables.';\n",
              "          element.innerHTML = '';\n",
              "          dataTable['output_type'] = 'display_data';\n",
              "          await google.colab.output.renderOutput(dataTable, element);\n",
              "          const docLink = document.createElement('div');\n",
              "          docLink.innerHTML = docLinkHtml;\n",
              "          element.appendChild(docLink);\n",
              "        }\n",
              "      </script>\n",
              "    </div>\n",
              "  </div>\n",
              "  "
            ]
          },
          "metadata": {},
          "execution_count": 14
        }
      ]
    },
    {
      "cell_type": "code",
      "source": [
        "df.boxplot('Sepal.Length', 'Class')"
      ],
      "metadata": {
        "colab": {
          "base_uri": "https://localhost:8080/",
          "height": 166
        },
        "id": "jYtnk3mz4g1l",
        "outputId": "c1439689-abb3-406d-887f-17b566f201c0"
      },
      "execution_count": 15,
      "outputs": [
        {
          "output_type": "error",
          "ename": "NameError",
          "evalue": "ignored",
          "traceback": [
            "\u001b[0;31m---------------------------------------------------------------------------\u001b[0m",
            "\u001b[0;31mNameError\u001b[0m                                 Traceback (most recent call last)",
            "\u001b[0;32m<ipython-input-15-68df058d4754>\u001b[0m in \u001b[0;36m<module>\u001b[0;34m()\u001b[0m\n\u001b[0;32m----> 1\u001b[0;31m \u001b[0mdf2\u001b[0m\u001b[0;34m.\u001b[0m\u001b[0mboxplot\u001b[0m\u001b[0;34m(\u001b[0m\u001b[0;34m'Sepal.Length'\u001b[0m\u001b[0;34m,\u001b[0m \u001b[0;34m'Class'\u001b[0m\u001b[0;34m)\u001b[0m\u001b[0;34m\u001b[0m\u001b[0;34m\u001b[0m\u001b[0m\n\u001b[0m",
            "\u001b[0;31mNameError\u001b[0m: name 'df2' is not defined"
          ]
        }
      ]
    },
    {
      "cell_type": "code",
      "source": [
        "df.boxplot('Sepal.Width', 'Class')"
      ],
      "metadata": {
        "id": "6_pB8D5v4oqU"
      },
      "execution_count": null,
      "outputs": []
    },
    {
      "cell_type": "code",
      "source": [
        "df.boxplot('Petal.Length', 'Class')"
      ],
      "metadata": {
        "id": "xqaiP6GQ4tME"
      },
      "execution_count": null,
      "outputs": []
    },
    {
      "cell_type": "code",
      "source": [
        "df.boxplot('Petal.Width', 'Class')"
      ],
      "metadata": {
        "colab": {
          "base_uri": "https://localhost:8080/",
          "height": 318
        },
        "id": "t5YEsp-_4wt0",
        "outputId": "d4dde389-4da9-4aac-ea85-9756bea78561"
      },
      "execution_count": 16,
      "outputs": [
        {
          "output_type": "execute_result",
          "data": {
            "text/plain": [
              "<matplotlib.axes._subplots.AxesSubplot at 0x7f69cc62c1d0>"
            ]
          },
          "metadata": {},
          "execution_count": 16
        },
        {
          "output_type": "display_data",
          "data": {
            "text/plain": [
              "<Figure size 432x288 with 1 Axes>"
            ],
            "image/png": "[encoded data removed]"
          },
          "metadata": {
            "needs_background": "light"
          }
        }
      ]
    },
    {
      "cell_type": "markdown",
      "source": [
        "# Explanatory analysis of google sheeet data corresponding to PGSS CS Lab class of 2022"
      ],
      "metadata": {
        "id": "V7PNkxwh5a_F"
      }
    },
    {
      "cell_type": "code",
      "source": [
        "from google.colab import auth\n",
        "auth.authenticate_user()\n",
        "\n",
        "import gspread\n",
        "from google.auth import default\n",
        "creds, _ = default()\n",
        "\n",
        "gc = gspread.authorize(creds)\n",
        "\n",
        "worksheet = gc.open('PGSS 2022 CS Lab Class ').sheet1\n",
        "\n",
        "# get_all_values gives a list of rows.\n",
        "rows = worksheet.get_all_values()\n",
        "print(rows)\n",
        "\n",
        "# Convert to a DataFrame and render.\n",
        "import pandas as pd\n",
        "pd.DataFrame.from_records(rows)\n",
        "myClassData = pd.DataFrame.from_records(rows)\n",
        "\n",
        "myClassData = myClassData.iloc[1:,:]\n",
        "\n",
        "myClassData.columns = ['First Name', 'Last Name', 'Andrew ID', 'Github', 'Role', 'Non-Andrew Email',]\n",
        "myClassData"
      ],
      "metadata": {
        "colab": {
          "base_uri": "https://localhost:8080/",
          "height": 777
        },
        "id": "Qwtqo7bf5rGT",
        "outputId": "d58e5a8d-1a79-4a07-b536-e2e6dc4410d9"
      },
      "execution_count": 24,
      "outputs": [
        {
          "output_type": "stream",
          "name": "stdout",
          "text": [
            "[['First Name', 'Last Name', 'Andrew ID', 'Github', 'Role', 'Non-Andrew Email'], ['Prahlad', 'Menon', 'pgmenon', 'menonpg', 'Professor', ''], ['Aidan', 'Green', 'aidang', 'aidang56', 'Student', 'aidang626@gmail.com'], ['Nikola', 'Cao', 'nikolac', 'nikolacao', 'Student', 'cao.nikola.a@gmail.com'], ['Bea', 'Ricafort', 'bricafor', 'bricafor', 'Student', 'moiraangiebee@gmail.com'], ['Daniel', 'Zhang', 'danielz2', 'DanZfsd', 'Student', 'z331317@gmail.com'], ['Siming', 'Tang', 'simingt', 'Jelliphishi', 'Student', ''], ['Jai', 'Rastogi', 'jrastogi', 'jrastogi1349342', 'Student', ''], ['Sam', 'Wang', 'samuelw2', 'samuelwang23', 'Student', ''], ['Edison', 'DeWilde', 'edewilde', 'edewilde12', 'Student', ''], ['Hannah', 'Gong', 'hannahgo', 'hgna', 'Student', ''], ['Mason', 'Matich', 'mmatich', 'AWESDUDEtheCOOL', 'Student', ''], ['Diya', 'Hundiwala', 'dhundiwa', 'diyahundiwala', 'Student', 'diyahundiwala@gmail.com'], ['Eric', 'Cui', 'ecui', 'restlesstable29', 'Student', ''], ['Kurtis', 'Zhang', 'kurtisz', 'KurtisZ18', 'Student', ''], ['Parimala', 'Rajesh', 'prajesh', 'prajesh3', 'Student', ''], ['Alena', 'Hemminger', 'ahemming', 'AlenaHemminger', 'Student', 'alenahemmi10@gmail.com'], ['Kovid', 'Tandon', 'ktandon', 'Kdawg23', 'Student', '23tandonk@gmail.com'], ['Daniel', 'Wang', 'dw4', 'DanielWang2305', 'Student', ''], ['Malina', 'Reber', 'mreber', 'mreber23', 'Student', ''], ['Joe', 'McLaughlin', 'jmmclaug', 'jmmclaug201', 'TA', ''], ['Michael', 'Rybalkin', 'mrybalki', 'mrybalki', 'TA', ''], ['Shiyang', 'Tian', 'shiyangt', 'syttt001', 'TA', '']]\n"
          ]
        },
        {
          "output_type": "execute_result",
          "data": {
            "text/plain": [
              "   First Name   Last Name Andrew ID           Github       Role  \\\n",
              "1     Prahlad       Menon   pgmenon          menonpg  Professor   \n",
              "2       Aidan       Green    aidang         aidang56    Student   \n",
              "3      Nikola         Cao   nikolac        nikolacao    Student   \n",
              "4         Bea    Ricafort  bricafor         bricafor    Student   \n",
              "5      Daniel       Zhang  danielz2          DanZfsd    Student   \n",
              "6      Siming        Tang   simingt      Jelliphishi    Student   \n",
              "7         Jai     Rastogi  jrastogi  jrastogi1349342    Student   \n",
              "8         Sam        Wang  samuelw2     samuelwang23    Student   \n",
              "9      Edison     DeWilde  edewilde       edewilde12    Student   \n",
              "10     Hannah        Gong  hannahgo             hgna    Student   \n",
              "11      Mason      Matich   mmatich  AWESDUDEtheCOOL    Student   \n",
              "12       Diya   Hundiwala  dhundiwa    diyahundiwala    Student   \n",
              "13       Eric         Cui      ecui  restlesstable29    Student   \n",
              "14     Kurtis       Zhang   kurtisz        KurtisZ18    Student   \n",
              "15   Parimala      Rajesh   prajesh         prajesh3    Student   \n",
              "16      Alena   Hemminger  ahemming   AlenaHemminger    Student   \n",
              "17      Kovid      Tandon   ktandon          Kdawg23    Student   \n",
              "18     Daniel        Wang       dw4   DanielWang2305    Student   \n",
              "19     Malina       Reber    mreber         mreber23    Student   \n",
              "20        Joe  McLaughlin  jmmclaug      jmmclaug201         TA   \n",
              "21    Michael    Rybalkin  mrybalki         mrybalki         TA   \n",
              "22    Shiyang        Tian  shiyangt         syttt001         TA   \n",
              "\n",
              "           Non-Andrew Email  \n",
              "1                            \n",
              "2       aidang626@gmail.com  \n",
              "3    cao.nikola.a@gmail.com  \n",
              "4   moiraangiebee@gmail.com  \n",
              "5         z331317@gmail.com  \n",
              "6                            \n",
              "7                            \n",
              "8                            \n",
              "9                            \n",
              "10                           \n",
              "11                           \n",
              "12  diyahundiwala@gmail.com  \n",
              "13                           \n",
              "14                           \n",
              "15                           \n",
              "16   alenahemmi10@gmail.com  \n",
              "17      23tandonk@gmail.com  \n",
              "18                           \n",
              "19                           \n",
              "20                           \n",
              "21                           \n",
              "22                           "
            ],
            "text/html": [
              "\n",
              "  <div id=\"df-f4f98413-4a1a-4029-b523-773dd99fea9b\">\n",
              "    <div class=\"colab-df-container\">\n",
              "      <div>\n",
              "<style scoped>\n",
              "    .dataframe tbody tr th:only-of-type {\n",
              "        vertical-align: middle;\n",
              "    }\n",
              "\n",
              "    .dataframe tbody tr th {\n",
              "        vertical-align: top;\n",
              "    }\n",
              "\n",
              "    .dataframe thead th {\n",
              "        text-align: right;\n",
              "    }\n",
              "</style>\n",
              "<table border=\"1\" class=\"dataframe\">\n",
              "  <thead>\n",
              "    <tr style=\"text-align: right;\">\n",
              "      <th></th>\n",
              "      <th>First Name</th>\n",
              "      <th>Last Name</th>\n",
              "      <th>Andrew ID</th>\n",
              "      <th>Github</th>\n",
              "      <th>Role</th>\n",
              "      <th>Non-Andrew Email</th>\n",
              "    </tr>\n",
              "  </thead>\n",
              "  <tbody>\n",
              "    <tr>\n",
              "      <th>1</th>\n",
              "      <td>Prahlad</td>\n",
              "      <td>Menon</td>\n",
              "      <td>pgmenon</td>\n",
              "      <td>menonpg</td>\n",
              "      <td>Professor</td>\n",
              "      <td></td>\n",
              "    </tr>\n",
              "    <tr>\n",
              "      <th>2</th>\n",
              "      <td>Aidan</td>\n",
              "      <td>Green</td>\n",
              "      <td>aidang</td>\n",
              "      <td>aidang56</td>\n",
              "      <td>Student</td>\n",
              "      <td>aidang626@gmail.com</td>\n",
              "    </tr>\n",
              "    <tr>\n",
              "      <th>3</th>\n",
              "      <td>Nikola</td>\n",
              "      <td>Cao</td>\n",
              "      <td>nikolac</td>\n",
              "      <td>nikolacao</td>\n",
              "      <td>Student</td>\n",
              "      <td>cao.nikola.a@gmail.com</td>\n",
              "    </tr>\n",
              "    <tr>\n",
              "      <th>4</th>\n",
              "      <td>Bea</td>\n",
              "      <td>Ricafort</td>\n",
              "      <td>bricafor</td>\n",
              "      <td>bricafor</td>\n",
              "      <td>Student</td>\n",
              "      <td>moiraangiebee@gmail.com</td>\n",
              "    </tr>\n",
              "    <tr>\n",
              "      <th>5</th>\n",
              "      <td>Daniel</td>\n",
              "      <td>Zhang</td>\n",
              "      <td>danielz2</td>\n",
              "      <td>DanZfsd</td>\n",
              "      <td>Student</td>\n",
              "      <td>z331317@gmail.com</td>\n",
              "    </tr>\n",
              "    <tr>\n",
              "      <th>6</th>\n",
              "      <td>Siming</td>\n",
              "      <td>Tang</td>\n",
              "      <td>simingt</td>\n",
              "      <td>Jelliphishi</td>\n",
              "      <td>Student</td>\n",
              "      <td></td>\n",
              "    </tr>\n",
              "    <tr>\n",
              "      <th>7</th>\n",
              "      <td>Jai</td>\n",
              "      <td>Rastogi</td>\n",
              "      <td>jrastogi</td>\n",
              "      <td>jrastogi1349342</td>\n",
              "      <td>Student</td>\n",
              "      <td></td>\n",
              "    </tr>\n",
              "    <tr>\n",
              "      <th>8</th>\n",
              "      <td>Sam</td>\n",
              "      <td>Wang</td>\n",
              "      <td>samuelw2</td>\n",
              "      <td>samuelwang23</td>\n",
              "      <td>Student</td>\n",
              "      <td></td>\n",
              "    </tr>\n",
              "    <tr>\n",
              "      <th>9</th>\n",
              "      <td>Edison</td>\n",
              "      <td>DeWilde</td>\n",
              "      <td>edewilde</td>\n",
              "      <td>edewilde12</td>\n",
              "      <td>Student</td>\n",
              "      <td></td>\n",
              "    </tr>\n",
              "    <tr>\n",
              "      <th>10</th>\n",
              "      <td>Hannah</td>\n",
              "      <td>Gong</td>\n",
              "      <td>hannahgo</td>\n",
              "      <td>hgna</td>\n",
              "      <td>Student</td>\n",
              "      <td></td>\n",
              "    </tr>\n",
              "    <tr>\n",
              "      <th>11</th>\n",
              "      <td>Mason</td>\n",
              "      <td>Matich</td>\n",
              "      <td>mmatich</td>\n",
              "      <td>AWESDUDEtheCOOL</td>\n",
              "      <td>Student</td>\n",
              "      <td></td>\n",
              "    </tr>\n",
              "    <tr>\n",
              "      <th>12</th>\n",
              "      <td>Diya</td>\n",
              "      <td>Hundiwala</td>\n",
              "      <td>dhundiwa</td>\n",
              "      <td>diyahundiwala</td>\n",
              "      <td>Student</td>\n",
              "      <td>diyahundiwala@gmail.com</td>\n",
              "    </tr>\n",
              "    <tr>\n",
              "      <th>13</th>\n",
              "      <td>Eric</td>\n",
              "      <td>Cui</td>\n",
              "      <td>ecui</td>\n",
              "      <td>restlesstable29</td>\n",
              "      <td>Student</td>\n",
              "      <td></td>\n",
              "    </tr>\n",
              "    <tr>\n",
              "      <th>14</th>\n",
              "      <td>Kurtis</td>\n",
              "      <td>Zhang</td>\n",
              "      <td>kurtisz</td>\n",
              "      <td>KurtisZ18</td>\n",
              "      <td>Student</td>\n",
              "      <td></td>\n",
              "    </tr>\n",
              "    <tr>\n",
              "      <th>15</th>\n",
              "      <td>Parimala</td>\n",
              "      <td>Rajesh</td>\n",
              "      <td>prajesh</td>\n",
              "      <td>prajesh3</td>\n",
              "      <td>Student</td>\n",
              "      <td></td>\n",
              "    </tr>\n",
              "    <tr>\n",
              "      <th>16</th>\n",
              "      <td>Alena</td>\n",
              "      <td>Hemminger</td>\n",
              "      <td>ahemming</td>\n",
              "      <td>AlenaHemminger</td>\n",
              "      <td>Student</td>\n",
              "      <td>alenahemmi10@gmail.com</td>\n",
              "    </tr>\n",
              "    <tr>\n",
              "      <th>17</th>\n",
              "      <td>Kovid</td>\n",
              "      <td>Tandon</td>\n",
              "      <td>ktandon</td>\n",
              "      <td>Kdawg23</td>\n",
              "      <td>Student</td>\n",
              "      <td>23tandonk@gmail.com</td>\n",
              "    </tr>\n",
              "    <tr>\n",
              "      <th>18</th>\n",
              "      <td>Daniel</td>\n",
              "      <td>Wang</td>\n",
              "      <td>dw4</td>\n",
              "      <td>DanielWang2305</td>\n",
              "      <td>Student</td>\n",
              "      <td></td>\n",
              "    </tr>\n",
              "    <tr>\n",
              "      <th>19</th>\n",
              "      <td>Malina</td>\n",
              "      <td>Reber</td>\n",
              "      <td>mreber</td>\n",
              "      <td>mreber23</td>\n",
              "      <td>Student</td>\n",
              "      <td></td>\n",
              "    </tr>\n",
              "    <tr>\n",
              "      <th>20</th>\n",
              "      <td>Joe</td>\n",
              "      <td>McLaughlin</td>\n",
              "      <td>jmmclaug</td>\n",
              "      <td>jmmclaug201</td>\n",
              "      <td>TA</td>\n",
              "      <td></td>\n",
              "    </tr>\n",
              "    <tr>\n",
              "      <th>21</th>\n",
              "      <td>Michael</td>\n",
              "      <td>Rybalkin</td>\n",
              "      <td>mrybalki</td>\n",
              "      <td>mrybalki</td>\n",
              "      <td>TA</td>\n",
              "      <td></td>\n",
              "    </tr>\n",
              "    <tr>\n",
              "      <th>22</th>\n",
              "      <td>Shiyang</td>\n",
              "      <td>Tian</td>\n",
              "      <td>shiyangt</td>\n",
              "      <td>syttt001</td>\n",
              "      <td>TA</td>\n",
              "      <td></td>\n",
              "    </tr>\n",
              "  </tbody>\n",
              "</table>\n",
              "</div>\n",
              "      <button class=\"colab-df-convert\" onclick=\"convertToInteractive('df-f4f98413-4a1a-4029-b523-773dd99fea9b')\"\n",
              "              title=\"Convert this dataframe to an interactive table.\"\n",
              "              style=\"display:none;\">\n",
              "        \n",
              "  <svg xmlns=\"http://www.w3.org/2000/svg\" height=\"24px\"viewBox=\"0 0 24 24\"\n",
              "       width=\"24px\">\n",
              "    <path d=\"M0 0h24v24H0V0z\" fill=\"none\"/>\n",
              "    <path d=\"M18.56 5.44l.94 2.06.94-2.06 2.06-.94-2.06-.94-.94-2.06-.94 2.06-2.06.94zm-11 1L8.5 8.5l.94-2.06 2.06-.94-2.06-.94L8.5 2.5l-.94 2.06-2.06.94zm10 10l.94 2.06.94-2.06 2.06-.94-2.06-.94-.94-2.06-.94 2.06-2.06.94z\"/><path d=\"M17.41 7.96l-1.37-1.37c-.4-.4-.92-.59-1.43-.59-.52 0-1.04.2-1.43.59L10.3 9.45l-7.72 7.72c-.78.78-.78 2.05 0 2.83L4 21.41c.39.39.9.59 1.41.59.51 0 1.02-.2 1.41-.59l7.78-7.78 2.81-2.81c.8-.78.8-2.07 0-2.86zM5.41 20L4 18.59l7.72-7.72 1.47 1.35L5.41 20z\"/>\n",
              "  </svg>\n",
              "      </button>\n",
              "      \n",
              "  <style>\n",
              "    .colab-df-container {\n",
              "      display:flex;\n",
              "      flex-wrap:wrap;\n",
              "      gap: 12px;\n",
              "    }\n",
              "\n",
              "    .colab-df-convert {\n",
              "      background-color: #E8F0FE;\n",
              "      border: none;\n",
              "      border-radius: 50%;\n",
              "      cursor: pointer;\n",
              "      display: none;\n",
              "      fill: #1967D2;\n",
              "      height: 32px;\n",
              "      padding: 0 0 0 0;\n",
              "      width: 32px;\n",
              "    }\n",
              "\n",
              "    .colab-df-convert:hover {\n",
              "      background-color: #E2EBFA;\n",
              "      box-shadow: 0px 1px 2px rgba(60, 64, 67, 0.3), 0px 1px 3px 1px rgba(60, 64, 67, 0.15);\n",
              "      fill: #174EA6;\n",
              "    }\n",
              "\n",
              "    [theme=dark] .colab-df-convert {\n",
              "      background-color: #3B4455;\n",
              "      fill: #D2E3FC;\n",
              "    }\n",
              "\n",
              "    [theme=dark] .colab-df-convert:hover {\n",
              "      background-color: #434B5C;\n",
              "      box-shadow: 0px 1px 3px 1px rgba(0, 0, 0, 0.15);\n",
              "      filter: drop-shadow(0px 1px 2px rgba(0, 0, 0, 0.3));\n",
              "      fill: #FFFFFF;\n",
              "    }\n",
              "  </style>\n",
              "\n",
              "      <script>\n",
              "        const buttonEl =\n",
              "          document.querySelector('#df-f4f98413-4a1a-4029-b523-773dd99fea9b button.colab-df-convert');\n",
              "        buttonEl.style.display =\n",
              "          google.colab.kernel.accessAllowed ? 'block' : 'none';\n",
              "\n",
              "        async function convertToInteractive(key) {\n",
              "          const element = document.querySelector('#df-f4f98413-4a1a-4029-b523-773dd99fea9b');\n",
              "          const dataTable =\n",
              "            await google.colab.kernel.invokeFunction('convertToInteractive',\n",
              "                                                     [key], {});\n",
              "          if (!dataTable) return;\n",
              "\n",
              "          const docLinkHtml = 'Like what you see? Visit the ' +\n",
              "            '<a target=\"_blank\" href=https://colab.research.google.com/notebooks/data_table.ipynb>data table notebook</a>'\n",
              "            + ' to learn more about interactive tables.';\n",
              "          element.innerHTML = '';\n",
              "          dataTable['output_type'] = 'display_data';\n",
              "          await google.colab.output.renderOutput(dataTable, element);\n",
              "          const docLink = document.createElement('div');\n",
              "          docLink.innerHTML = docLinkHtml;\n",
              "          element.appendChild(docLink);\n",
              "        }\n",
              "      </script>\n",
              "    </div>\n",
              "  </div>\n",
              "  "
            ]
          },
          "metadata": {},
          "execution_count": 24
        }
      ]
    },
    {
      "cell_type": "code",
      "source": [
        "myClassData['Role'].value_counts()"
      ],
      "metadata": {
        "colab": {
          "base_uri": "https://localhost:8080/"
        },
        "id": "HGmxtjTp6oMT",
        "outputId": "97abdc41-b109-4c11-8581-2bc172124169"
      },
      "execution_count": 25,
      "outputs": [
        {
          "output_type": "execute_result",
          "data": {
            "text/plain": [
              "Student      18\n",
              "TA            3\n",
              "Professor     1\n",
              "Name: Role, dtype: int64"
            ]
          },
          "metadata": {},
          "execution_count": 25
        }
      ]
    },
    {
      "cell_type": "code",
      "source": [
        "import numpy as np\n",
        "myClassData['Non-Andrew Email'][myClassData['Non-Andrew Email']==\"\"]=np.nan\n",
        "myClassData['Non-Andrew Email'].isna().value_counts()"
      ],
      "metadata": {
        "colab": {
          "base_uri": "https://localhost:8080/"
        },
        "id": "KVdKMvOD7H1p",
        "outputId": "774a3cfa-08c1-4807-8d9e-a908d09ed3a0"
      },
      "execution_count": 28,
      "outputs": [
        {
          "output_type": "execute_result",
          "data": {
            "text/plain": [
              "True     15\n",
              "False     7\n",
              "Name: Non-Andrew Email, dtype: int64"
            ]
          },
          "metadata": {},
          "execution_count": 28
        }
      ]
    }
  ]
}